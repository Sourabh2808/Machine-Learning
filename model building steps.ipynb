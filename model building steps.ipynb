{
 "cells": [
  {
   "cell_type": "markdown",
   "id": "83233e5c",
   "metadata": {},
   "source": [
    "1. Data Gathering\n",
    "2. Perform basic data quality checks\n",
    "3. Remove duplicates if any\n",
    "4. Separate your data into X and Y features\n",
    "5. Create Data pipelines => Cleaning, Preprocessing\n",
    "6. EDA - Exploratory Data Analysis- Descriptive/statiscal Analysis\n",
    "7. Train Test Split - Splitting of data into training and testing\n",
    "8. Choose the algorithm for final model building\n",
    "9. Build the model\n",
    "10. Evaluation of model- using respective evaluation metrics=> if the model is really providing accurate results or not. You check with test data(xtest,ytest)-unseen data.\n",
    "11. Out of sample predictions with the finalised model."
   ]
  }
 ],
 "metadata": {
  "kernelspec": {
   "display_name": "base",
   "language": "python",
   "name": "python3"
  },
  "language_info": {
   "codemirror_mode": {
    "name": "ipython",
    "version": 3
   },
   "file_extension": ".py",
   "mimetype": "text/x-python",
   "name": "python",
   "nbconvert_exporter": "python",
   "pygments_lexer": "ipython3",
   "version": "3.13.5"
  }
 },
 "nbformat": 4,
 "nbformat_minor": 5
}
